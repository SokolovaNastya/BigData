{
 "cells": [
  {
   "cell_type": "markdown",
   "metadata": {},
   "source": [
    "# Коллаборативная фильтрация"
   ]
  },
  {
   "cell_type": "markdown",
   "metadata": {},
   "source": [
    "U - множество субъектов (клиентов, пользователей: users)     \n",
    "R - множество объектов (ресурсов, товаров, предметов: items)     \n",
    "Y - пространство описаний транзакций  \n",
    "\n",
    "$$\n",
    "D = (u_i, r_i, y_i)^m_{i=1} \\in U \\times R \\times Y \\textrm {- транзакционные данные}\n",
    "$$ \n",
    "\n",
    "### Агрегированные данные  \n",
    "$$\n",
    "F = \\begin{Vmatrix} \n",
    "f_{ur}\n",
    "\\end{Vmatrix} \\textrm {- матрица кросс-табуляции размера} \\begin{vmatrix} U \\end{vmatrix} \\times  \\begin{vmatrix} R \\end{vmatrix} \\\\\n",
    "где\\quad f_{ur} = aagr\\left\\{(u_i, r_i, y_i) \\in D | u_i = u, r_i = r \\right\\}\n",
    "$$\n",
    "\n",
    "### Задачa\n",
    "$$ \\textrm {Прогнозирование незаполненных ячеек} f_{ur}$$\n"
   ]
  },
  {
   "cell_type": "code",
   "execution_count": 1,
   "metadata": {
    "scrolled": true
   },
   "outputs": [
    {
     "name": "stdout",
     "output_type": "stream",
     "text": [
      "Requirement already satisfied: pyspark in /usr/local/Cellar/apache-spark/2.3.1/libexec/python (2.3.1)\n",
      "Requirement already satisfied: py4j==0.10.7 in /usr/local/lib/python2.7/site-packages (0.10.7)\n",
      "Requirement already satisfied: sparkmonitor in /usr/local/lib/python2.7/site-packages (0.0.9)\n",
      "Requirement already satisfied: pandas in /usr/local/lib/python2.7/site-packages (0.23.4)\n",
      "Requirement already satisfied: bs4 in /usr/local/lib/python2.7/site-packages (from sparkmonitor) (0.0.1)\n",
      "Requirement already satisfied: pytz>=2011k in /usr/local/lib/python2.7/site-packages (from pandas) (2018.7)\n",
      "Requirement already satisfied: python-dateutil>=2.5.0 in /Users/echuraev/Library/Python/2.7/lib/python/site-packages (from pandas) (2.7.3)\n",
      "Requirement already satisfied: numpy>=1.9.0 in /usr/local/lib/python2.7/site-packages (from pandas) (1.14.3)\n",
      "Requirement already satisfied: beautifulsoup4 in /usr/local/lib/python2.7/site-packages (from bs4->sparkmonitor) (4.6.3)\n",
      "Requirement already satisfied: six>=1.5 in /usr/local/lib/python2.7/site-packages/six-1.11.0-py2.7.egg (from python-dateutil>=2.5.0->pandas) (1.11.0)\n",
      "\u001b[33mYou are using pip version 10.0.1, however version 18.1 is available.\n",
      "You should consider upgrading via the 'pip install --upgrade pip' command.\u001b[0m\n",
      "Requirement already up-to-date: matplotlib in /Users/echuraev/Library/Python/3.7/lib/python/site-packages (3.0.2)\n",
      "Requirement already up-to-date: numpy in /Users/echuraev/Library/Python/3.7/lib/python/site-packages (1.15.4)\n",
      "Requirement already satisfied, skipping upgrade: kiwisolver>=1.0.1 in /usr/local/lib/python3.7/site-packages (from matplotlib) (1.0.1)\n",
      "Requirement already satisfied, skipping upgrade: pyparsing!=2.0.4,!=2.1.2,!=2.1.6,>=2.0.1 in /usr/local/lib/python3.7/site-packages (from matplotlib) (2.2.0)\n",
      "Requirement already satisfied, skipping upgrade: python-dateutil>=2.1 in /usr/local/lib/python3.7/site-packages (from matplotlib) (2.7.3)\n",
      "Requirement already satisfied, skipping upgrade: cycler>=0.10 in /usr/local/lib/python3.7/site-packages (from matplotlib) (0.10.0)\n",
      "Requirement already satisfied, skipping upgrade: setuptools in /usr/local/lib/python3.7/site-packages (from kiwisolver>=1.0.1->matplotlib) (40.2.0)\n",
      "Requirement already satisfied, skipping upgrade: six>=1.5 in /usr/local/lib/python3.7/site-packages (from python-dateutil>=2.1->matplotlib) (1.11.0)\n",
      "Requirement already up-to-date: jupyter in /usr/local/lib/python2.7/site-packages (1.0.0)\n",
      "Requirement already up-to-date: ipython in /usr/local/lib/python2.7/site-packages (5.8.0)\n",
      "Requirement not upgraded as not directly required: nbconvert in /usr/local/lib/python2.7/site-packages (from jupyter) (5.4.0)\n",
      "Requirement not upgraded as not directly required: jupyter-console in /usr/local/lib/python2.7/site-packages (from jupyter) (5.2.0)\n",
      "Requirement not upgraded as not directly required: qtconsole in /usr/local/lib/python2.7/site-packages (from jupyter) (4.4.3)\n",
      "Requirement not upgraded as not directly required: ipykernel in /usr/local/lib/python2.7/site-packages (from jupyter) (4.10.0)\n",
      "Requirement not upgraded as not directly required: notebook in /usr/local/lib/python2.7/site-packages (from jupyter) (5.7.1)\n",
      "Requirement not upgraded as not directly required: ipywidgets in /usr/local/lib/python2.7/site-packages (from jupyter) (7.4.2)\n",
      "Requirement not upgraded as not directly required: pexpect; sys_platform != \"win32\" in /usr/local/lib/python2.7/site-packages (from ipython) (4.6.0)\n",
      "Requirement not upgraded as not directly required: backports.shutil-get-terminal-size; python_version == \"2.7\" in /usr/local/lib/python2.7/site-packages (from ipython) (1.0.0)\n",
      "Requirement not upgraded as not directly required: prompt-toolkit<2.0.0,>=1.0.4 in /usr/local/lib/python2.7/site-packages (from ipython) (1.0.15)\n",
      "Requirement not upgraded as not directly required: setuptools>=18.5 in /usr/local/lib/python2.7/site-packages (from ipython) (38.5.2)\n",
      "Requirement not upgraded as not directly required: pickleshare in /usr/local/lib/python2.7/site-packages (from ipython) (0.7.5)\n",
      "Requirement not upgraded as not directly required: simplegeneric>0.8 in /usr/local/lib/python2.7/site-packages (from ipython) (0.8.1)\n",
      "Requirement not upgraded as not directly required: traitlets>=4.2 in /usr/local/lib/python2.7/site-packages (from ipython) (4.3.2)\n",
      "Requirement not upgraded as not directly required: decorator in /usr/local/lib/python2.7/site-packages (from ipython) (4.3.0)\n",
      "Requirement not upgraded as not directly required: pygments in /usr/local/lib/python2.7/site-packages (from ipython) (2.2.0)\n",
      "Requirement not upgraded as not directly required: appnope; sys_platform == \"darwin\" in /usr/local/lib/python2.7/site-packages (from ipython) (0.1.0)\n",
      "Requirement not upgraded as not directly required: pathlib2; python_version == \"2.7\" or python_version == \"3.3\" in /usr/local/lib/python2.7/site-packages (from ipython) (2.3.2)\n",
      "Requirement not upgraded as not directly required: defusedxml in /usr/local/lib/python2.7/site-packages (from nbconvert->jupyter) (0.5.0)\n",
      "Requirement not upgraded as not directly required: testpath in /usr/local/lib/python2.7/site-packages (from nbconvert->jupyter) (0.4.2)\n",
      "Requirement not upgraded as not directly required: jinja2 in /usr/local/lib/python2.7/site-packages (from nbconvert->jupyter) (2.10)\n",
      "Requirement not upgraded as not directly required: entrypoints>=0.2.2 in /usr/local/lib/python2.7/site-packages (from nbconvert->jupyter) (0.2.3)\n",
      "Requirement not upgraded as not directly required: pandocfilters>=1.4.1 in /usr/local/lib/python2.7/site-packages (from nbconvert->jupyter) (1.4.2)\n",
      "Requirement not upgraded as not directly required: mistune>=0.8.1 in /usr/local/lib/python2.7/site-packages (from nbconvert->jupyter) (0.8.4)\n",
      "Requirement not upgraded as not directly required: bleach in /usr/local/lib/python2.7/site-packages (from nbconvert->jupyter) (1.5.0)\n",
      "Requirement not upgraded as not directly required: jupyter-core in /usr/local/lib/python2.7/site-packages (from nbconvert->jupyter) (4.4.0)\n",
      "Requirement not upgraded as not directly required: nbformat>=4.4 in /usr/local/lib/python2.7/site-packages (from nbconvert->jupyter) (4.4.0)\n",
      "Requirement not upgraded as not directly required: jupyter-client in /usr/local/lib/python2.7/site-packages (from jupyter-console->jupyter) (5.2.3)\n",
      "Requirement not upgraded as not directly required: ipython-genutils in /usr/local/lib/python2.7/site-packages (from qtconsole->jupyter) (0.2.0)\n",
      "Requirement not upgraded as not directly required: tornado>=4.0 in /usr/local/lib/python2.7/site-packages (from ipykernel->jupyter) (5.1.1)\n",
      "Requirement not upgraded as not directly required: prometheus-client in /usr/local/lib/python2.7/site-packages (from notebook->jupyter) (0.4.2)\n",
      "Requirement not upgraded as not directly required: Send2Trash in /usr/local/lib/python2.7/site-packages (from notebook->jupyter) (1.5.0)\n",
      "Requirement not upgraded as not directly required: ipaddress; python_version == \"2.7\" in /usr/local/lib/python2.7/site-packages (from notebook->jupyter) (1.0.22)\n",
      "Requirement not upgraded as not directly required: pyzmq>=17 in /usr/local/lib/python2.7/site-packages (from notebook->jupyter) (17.1.2)\n",
      "Requirement not upgraded as not directly required: terminado>=0.8.1 in /usr/local/lib/python2.7/site-packages (from notebook->jupyter) (0.8.1)\n",
      "Requirement not upgraded as not directly required: widgetsnbextension~=3.4.0 in /usr/local/lib/python2.7/site-packages (from ipywidgets->jupyter) (3.4.2)\n",
      "Requirement not upgraded as not directly required: ptyprocess>=0.5 in /usr/local/lib/python2.7/site-packages (from pexpect; sys_platform != \"win32\"->ipython) (0.6.0)\n",
      "Requirement not upgraded as not directly required: six>=1.9.0 in /usr/local/lib/python2.7/site-packages/six-1.11.0-py2.7.egg (from prompt-toolkit<2.0.0,>=1.0.4->ipython) (1.11.0)\n",
      "Requirement not upgraded as not directly required: wcwidth in /usr/local/lib/python2.7/site-packages (from prompt-toolkit<2.0.0,>=1.0.4->ipython) (0.1.7)\n",
      "Requirement not upgraded as not directly required: enum34; python_version == \"2.7\" in /usr/local/lib/python2.7/site-packages (from traitlets>=4.2->ipython) (1.1.6)\n",
      "Requirement not upgraded as not directly required: scandir; python_version < \"3.5\" in /usr/local/lib/python2.7/site-packages (from pathlib2; python_version == \"2.7\" or python_version == \"3.3\"->ipython) (1.9.0)\n",
      "Requirement not upgraded as not directly required: MarkupSafe>=0.23 in /usr/local/lib/python2.7/site-packages (from jinja2->nbconvert->jupyter) (1.1.0)\n",
      "Requirement not upgraded as not directly required: configparser>=3.5; python_version == \"2.7\" in /usr/local/lib/python2.7/site-packages (from entrypoints>=0.2.2->nbconvert->jupyter) (3.5.0)\n",
      "Requirement not upgraded as not directly required: html5lib!=0.9999,!=0.99999,<0.99999999,>=0.999 in /usr/local/lib/python2.7/site-packages (from bleach->nbconvert->jupyter) (0.9999999)\n"
     ]
    },
    {
     "name": "stdout",
     "output_type": "stream",
     "text": [
      "Requirement not upgraded as not directly required: jsonschema!=2.5.0,>=2.4 in /usr/local/lib/python2.7/site-packages (from nbformat>=4.4->nbconvert->jupyter) (2.6.0)\n",
      "Requirement not upgraded as not directly required: python-dateutil>=2.1 in /Users/echuraev/Library/Python/2.7/lib/python/site-packages (from jupyter-client->jupyter-console->jupyter) (2.7.3)\n",
      "Requirement not upgraded as not directly required: singledispatch in /usr/local/lib/python2.7/site-packages (from tornado>=4.0->ipykernel->jupyter) (3.4.0.3)\n",
      "Requirement not upgraded as not directly required: futures in /usr/local/lib/python2.7/site-packages (from tornado>=4.0->ipykernel->jupyter) (3.2.0)\n",
      "Requirement not upgraded as not directly required: backports-abc>=0.4 in /usr/local/lib/python2.7/site-packages (from tornado>=4.0->ipykernel->jupyter) (0.5)\n",
      "Requirement not upgraded as not directly required: functools32; python_version == \"2.7\" in /usr/local/lib/python2.7/site-packages (from jsonschema!=2.5.0,>=2.4->nbformat>=4.4->nbconvert->jupyter) (3.2.3.post2)\n",
      "\u001b[33mYou are using pip version 10.0.1, however version 18.1 is available.\n",
      "You should consider upgrading via the 'pip install --upgrade pip' command.\u001b[0m\n"
     ]
    }
   ],
   "source": [
    "!pip install pyspark py4j==0.10.7 sparkmonitor pandas\n",
    "!pip3 install -U matplotlib numpy --user\n",
    "!pip install --upgrade jupyter ipython\n",
    "import os\n",
    "os.environ['PYSPARK_PYTHON'] = '/usr/bin/python'"
   ]
  },
  {
   "cell_type": "code",
   "execution_count": 1,
   "metadata": {},
   "outputs": [],
   "source": [
    "import pandas as pd\n",
    "from pyspark import SparkContext\n",
    "from pyspark.sql import SparkSession, Row, functions\n",
    "from pyspark.sql.types import *\n",
    "from pyspark.sql.functions import first\n",
    "from pyspark.ml import Pipeline\n",
    "from pyspark.ml.feature import VectorAssembler\n",
    "from pyspark.ml.evaluation import MulticlassClassificationEvaluator, RegressionEvaluator\n",
    "from pyspark.ml.classification import *\n",
    "import matplotlib.pyplot as plt\n",
    "import numpy as np\n",
    "from numpy import array"
   ]
  },
  {
   "cell_type": "code",
   "execution_count": 2,
   "metadata": {},
   "outputs": [
    {
     "name": "stdout",
     "output_type": "stream",
     "text": [
      "Installing /usr/local/lib/python3.7/site-packages/sparkmonitor/static -> sparkmonitor\n",
      "- Validating: \u001b[32mOK\u001b[0m\n",
      "\n",
      "    To initialize this nbextension in the browser every time the notebook (or other app) loads:\n",
      "    \n",
      "          jupyter nbextension enable sparkmonitor --user --py\n",
      "    \n",
      "Enabling notebook extension sparkmonitor/module...\n",
      "      - Validating: \u001b[32mOK\u001b[0m\n",
      "Enabling: sparkmonitor.serverextension\n",
      "- Writing config: /Users/echuraev/.jupyter\n",
      "    - Validating...\n",
      "      sparkmonitor.serverextension  \u001b[32mOK\u001b[0m\n"
     ]
    }
   ],
   "source": [
    "import sparkmonitor\n",
    "!jupyter nbextension install sparkmonitor --py --user --symlink \n",
    "!jupyter nbextension enable sparkmonitor --py --user            \n",
    "!jupyter serverextension enable --py --user sparkmonitor\n",
    "!ipython profile create && echo \"c.InteractiveShellApp.extensions.append('sparkmonitor.kernelextension')\" >>  $(ipython profile locate default)/ipython_kernel_config.py"
   ]
  },
  {
   "cell_type": "code",
   "execution_count": 3,
   "metadata": {},
   "outputs": [
    {
     "name": "stdout",
     "output_type": "stream",
     "text": [
      "spark.extraListeners=sparkmonitor.listener.JupyterSparkMonitorListener\n",
      "spark.driver.extraClassPath=/usr/local/lib/python3.7/site-packages/sparkmonitor/listener.jar\n",
      "spark.app.name=recommender\n",
      "spark.master=local[*]\n",
      "spark.sql.shuffle.partitions=8\n"
     ]
    }
   ],
   "source": [
    "conf.setAppName('recommender')\n",
    "conf.setMaster('local[*]').set(\"spark.sql.shuffle.partitions\", \"8\")\n",
    "print(conf.toDebugString())"
   ]
  },
  {
   "cell_type": "code",
   "execution_count": 4,
   "metadata": {},
   "outputs": [],
   "source": [
    "sc = SparkContext.getOrCreate(conf=conf)\n",
    "spark = SparkSession(sc)"
   ]
  },
  {
   "cell_type": "code",
   "execution_count": 5,
   "metadata": {},
   "outputs": [
    {
     "name": "stdout",
     "output_type": "stream",
     "text": [
      "+-------+-------+------+---------+\n",
      "|user_id|item_id|rating|timestamp|\n",
      "+-------+-------+------+---------+\n",
      "|    196|    242|     3|881250949|\n",
      "|    186|    302|     3|891717742|\n",
      "|     22|    377|     1|878887116|\n",
      "|    244|     51|     2|880606923|\n",
      "|    166|    346|     1|886397596|\n",
      "|    298|    474|     4|884182806|\n",
      "|    115|    265|     2|881171488|\n",
      "|    253|    465|     5|891628467|\n",
      "|    305|    451|     3|886324817|\n",
      "|      6|     86|     3|883603013|\n",
      "|     62|    257|     2|879372434|\n",
      "|    286|   1014|     5|879781125|\n",
      "|    200|    222|     5|876042340|\n",
      "|    210|     40|     3|891035994|\n",
      "|    224|     29|     3|888104457|\n",
      "|    303|    785|     3|879485318|\n",
      "|    122|    387|     5|879270459|\n",
      "|    194|    274|     2|879539794|\n",
      "|    291|   1042|     4|874834944|\n",
      "|    234|   1184|     2|892079237|\n",
      "+-------+-------+------+---------+\n",
      "only showing top 20 rows\n",
      "\n"
     ]
    }
   ],
   "source": [
    "schema=StructType([\n",
    "    StructField(\"user_id\", IntegerType(), True),\n",
    "    StructField(\"item_id\", IntegerType(), True),\n",
    "    StructField(\"rating\", IntegerType(), True),\n",
    "    StructField(\"timestamp\", IntegerType(), True)],\n",
    "    )\n",
    "df = spark.read.csv(\"u.data\",sep=\"\\\\t\",schema=schema)\n",
    "\n",
    "df.show()"
   ]
  },
  {
   "cell_type": "code",
   "execution_count": 6,
   "metadata": {},
   "outputs": [
    {
     "data": {
      "text/plain": [
       "[Row(rating=1, count=6110),\n",
       " Row(rating=2, count=11370),\n",
       " Row(rating=3, count=27145),\n",
       " Row(rating=4, count=34174),\n",
       " Row(rating=5, count=21201)]"
      ]
     },
     "execution_count": 6,
     "metadata": {},
     "output_type": "execute_result"
    }
   ],
   "source": [
    "dataset_count = df.groupBy('rating').count().collect()\n",
    "sorted(dataset_count,key=lambda x : x['rating'])"
   ]
  },
  {
   "cell_type": "code",
   "execution_count": 7,
   "metadata": {
    "scrolled": true
   },
   "outputs": [
    {
     "data": {
      "image/png": "[encoded data removed]",
      "text/plain": [
       "<Figure size 432x288 with 1 Axes>"
      ]
     },
     "metadata": {
      "needs_background": "light"
     },
     "output_type": "display_data"
    }
   ],
   "source": [
    "plt.rc(\"font\", size=10)\n",
    "plt.bar(np.arange(len(dataset_count)), [x['count'] for x in sorted(dataset_count,key=lambda x : x['rating'])])\n",
    "plt.title('Rating Distribution\\n')\n",
    "plt.xlabel('Rating')\n",
    "plt.ylabel('Count')\n",
    "plt.show()"
   ]
  },
  {
   "cell_type": "markdown",
   "metadata": {},
   "source": [
    "# Data Preprocessing\n",
    "\n",
    "Находим фильм, который оценило больше всего пользователей.\n",
    "Строим матрицу кросс-табуляции, в которой столбец самого оцениваемого фильма будет считаться классом модели."
   ]
  },
  {
   "cell_type": "code",
   "execution_count": 8,
   "metadata": {},
   "outputs": [
    {
     "name": "stdout",
     "output_type": "stream",
     "text": [
      "8\n"
     ]
    }
   ],
   "source": [
    "df.createOrReplaceTempView(\"df\")\n",
    "class_id=spark.sql(\"SELECT item_id, COUNT(user_id) FROM df GROUP BY item_id ORDER BY COUNT(user_id) DESC\").first().item_id\n",
    "class_id=str(class_id)\n",
    "df=df.groupBy(\"user_id\")\\\n",
    "    .pivot(\"item_id\")\\\n",
    "    .agg(first(\"rating\").cast(\"double\"))\\\n",
    "    .repartition(class_id)\\\n",
    "    .fillna(0)\\\n",
    "    .drop(\"user_id\")\\\n",
    "    .withColumnRenamed(class_id,\"label\")\n",
    "\n",
    "#df.limit(5).toPandas()\n",
    "print(df.rdd.getNumPartitions())"
   ]
  },
  {
   "cell_type": "markdown",
   "metadata": {},
   "source": [
    "Собираем признаки в столбец \"features\", который будет иметь на выходе тип вектора."
   ]
  },
  {
   "cell_type": "code",
   "execution_count": 9,
   "metadata": {},
   "outputs": [],
   "source": [
    "assembler=VectorAssembler(\n",
    "    inputCols=df.drop(\"label\").columns,\n",
    "    outputCol=\"features\")\n",
    "transformed = assembler.transform(df)"
   ]
  },
  {
   "cell_type": "code",
   "execution_count": 10,
   "metadata": {
    "scrolled": true
   },
   "outputs": [],
   "source": [
    "from pyspark import keyword_only  \n",
    "from pyspark.ml.pipeline import Transformer  \n",
    "from pyspark.ml.param.shared import HasInputCol, HasOutputCol\n",
    "from pyspark.ml.linalg import SparseVector, DenseVector, VectorUDT\n",
    "from pyspark.sql.functions import udf\n",
    "\n",
    "\n",
    "class AsDenseTransformer(Transformer, HasInputCol, HasOutputCol):  \n",
    "    @keyword_only\n",
    "    def __init__(self, inputCol=None, outputCol=None):\n",
    "        super(AsDenseTransformer, self).__init__()\n",
    "        kwargs = self._input_kwargs\n",
    "        self.setParams(**kwargs)\n",
    "\n",
    "    @keyword_only\n",
    "    def setParams(self, inputCol=None, outputCol=None):\n",
    "        kwargs = self._input_kwargs\n",
    "        return self._set(**kwargs)\n",
    "\n",
    "    def _transform(self, dataset):\n",
    "        out_col = self.getOutputCol()\n",
    "        in_col = dataset[self.getInputCol()]\n",
    "\n",
    "        asDense = udf(lambda s: DenseVector(s.toArray()), VectorUDT()) \n",
    "\n",
    "        return dataset.withColumn(out_col,  asDense(in_col))"
   ]
  },
  {
   "cell_type": "code",
   "execution_count": 11,
   "metadata": {},
   "outputs": [],
   "source": [
    "transformer = AsDenseTransformer(inputCol=\"features\",outputCol=\"features\")"
   ]
  },
  {
   "cell_type": "code",
   "execution_count": 12,
   "metadata": {},
   "outputs": [],
   "source": [
    "transformer = AsDenseTransformer(inputCol=\"features\",outputCol=\"features\")\n",
    "dense=transformer.transform(transformed)"
   ]
  },
  {
   "cell_type": "code",
   "execution_count": 13,
   "metadata": {},
   "outputs": [
    {
     "name": "stdout",
     "output_type": "stream",
     "text": [
      "446\n",
      "137\n"
     ]
    }
   ],
   "source": [
    "labeled=df.where(\"label > 0\")\n",
    "labeled = labeled.withColumn(\"label\",labeled.label-1)\n",
    "train,test=labeled.randomSplit([0.75,0.25])\n",
    "print(train.count())\n",
    "print(test.count())"
   ]
  },
  {
   "cell_type": "markdown",
   "metadata": {},
   "source": [
    "# One-Vs-Rest"
   ]
  },
  {
   "cell_type": "code",
   "execution_count": 14,
   "metadata": {},
   "outputs": [
    {
     "data": {
      "text/plain": [
       "137"
      ]
     },
     "execution_count": 14,
     "metadata": {},
     "output_type": "execute_result"
    }
   ],
   "source": [
    "lr=LogisticRegression(maxIter=10)\n",
    "ovr=OneVsRest(classifier=lr)\n",
    "pip = Pipeline(stages=[assembler,transformer,ovr])\n",
    "model=pip.fit(train)\n",
    "result = model.transform(test)\n",
    "result.count()"
   ]
  },
  {
   "cell_type": "code",
   "execution_count": 15,
   "metadata": {},
   "outputs": [
    {
     "name": "stdout",
     "output_type": "stream",
     "text": [
      "Test error = 0.489051\n"
     ]
    }
   ],
   "source": [
    "evaluator = MulticlassClassificationEvaluator(metricName=\"accuracy\")\n",
    "#evaluator=RegressionEvaluator(metricName=\"rmse\")\n",
    "print(\"Test error = %g\" % (1.0-evaluator.evaluate(result)))"
   ]
  },
  {
   "cell_type": "markdown",
   "metadata": {},
   "source": [
    "# Decision Trees"
   ]
  },
  {
   "cell_type": "code",
   "execution_count": 16,
   "metadata": {
    "scrolled": true
   },
   "outputs": [
    {
     "data": {
      "text/plain": [
       "137"
      ]
     },
     "execution_count": 16,
     "metadata": {},
     "output_type": "execute_result"
    }
   ],
   "source": [
    "from pyspark.ml.classification import DecisionTreeClassifier\n",
    "dt = DecisionTreeClassifier(labelCol=\"label\", featuresCol=\"features\")\n",
    "pip = Pipeline(stages=[assembler,dt])\n",
    "result = pip.fit(train).transform(test).select(\"label\",\"prediction\")\n",
    "result.count()"
   ]
  },
  {
   "cell_type": "code",
   "execution_count": 17,
   "metadata": {},
   "outputs": [
    {
     "name": "stdout",
     "output_type": "stream",
     "text": [
      "Test error = 0.40146\n"
     ]
    }
   ],
   "source": [
    "evaluator = MulticlassClassificationEvaluator(metricName=\"accuracy\")\n",
    "print(\"Test error = %g\" % (1.0-evaluator.evaluate(result)))"
   ]
  },
  {
   "cell_type": "markdown",
   "metadata": {},
   "source": [
    "# Multinomial logistic regression"
   ]
  },
  {
   "cell_type": "code",
   "execution_count": 18,
   "metadata": {},
   "outputs": [
    {
     "name": "stdout",
     "output_type": "stream",
     "text": [
      "+-----+----------+\n",
      "|label|prediction|\n",
      "+-----+----------+\n",
      "|  3.0|       4.0|\n",
      "|  3.0|       4.0|\n",
      "|  3.0|       4.0|\n",
      "|  3.0|       4.0|\n",
      "|  3.0|       4.0|\n",
      "|  3.0|       4.0|\n",
      "|  3.0|       4.0|\n",
      "|  3.0|       4.0|\n",
      "|  3.0|       4.0|\n",
      "|  3.0|       4.0|\n",
      "+-----+----------+\n",
      "only showing top 10 rows\n",
      "\n"
     ]
    }
   ],
   "source": [
    "lr = LogisticRegression(maxIter=10, regParam=0.3, elasticNetParam=0.8, labelCol=\"label\", featuresCol=\"features\")\n",
    "pip = Pipeline(stages=[assembler,lr])\n",
    "result = pip.fit(train).transform(test).select(\"label\",\"prediction\")\n",
    "result.show(10)"
   ]
  },
  {
   "cell_type": "code",
   "execution_count": 19,
   "metadata": {},
   "outputs": [
    {
     "name": "stdout",
     "output_type": "stream",
     "text": [
      "Test error = 0.423358\n"
     ]
    }
   ],
   "source": [
    "evaluator = MulticlassClassificationEvaluator(metricName=\"accuracy\")\n",
    "print(\"Test error = %g\" % (1.0-evaluator.evaluate(result)))"
   ]
  },
  {
   "cell_type": "markdown",
   "metadata": {},
   "source": [
    "# Multilayer Perceptron"
   ]
  },
  {
   "cell_type": "code",
   "execution_count": 20,
   "metadata": {
    "scrolled": false
   },
   "outputs": [
    {
     "name": "stdout",
     "output_type": "stream",
     "text": [
      "+-----+----------+\n",
      "|label|prediction|\n",
      "+-----+----------+\n",
      "|  3.0|       4.0|\n",
      "|  3.0|       4.0|\n",
      "|  3.0|       4.0|\n",
      "|  3.0|       3.0|\n",
      "|  3.0|       3.0|\n",
      "|  3.0|       4.0|\n",
      "|  3.0|       3.0|\n",
      "|  3.0|       4.0|\n",
      "|  3.0|       4.0|\n",
      "|  3.0|       2.0|\n",
      "+-----+----------+\n",
      "only showing top 10 rows\n",
      "\n"
     ]
    }
   ],
   "source": [
    "layers = [1681,256,64,16,5] \n",
    "\n",
    "# create the trainer and set its parameters \n",
    "trainer = MultilayerPerceptronClassifier(maxIter=100,layers=layers) \n",
    "\n",
    "\n",
    "pip=Pipeline(stages=[assembler,trainer])\n",
    "# train the model \n",
    "model = pip.fit(train) \n",
    "\n",
    "result = model.transform(test) \n",
    "predictionAndLabels = result.select(\"label\", \"prediction\") \n",
    "predictionAndLabels.show(10)"
   ]
  },
  {
   "cell_type": "code",
   "execution_count": 21,
   "metadata": {},
   "outputs": [
    {
     "name": "stdout",
     "output_type": "stream",
     "text": [
      "Test set accuracy = 0.45985401459854014\n"
     ]
    }
   ],
   "source": [
    "evaluator = MulticlassClassificationEvaluator(metricName=\"accuracy\")\n",
    "print(\"Test set accuracy = \" + str(evaluator.evaluate(predictionAndLabels)))"
   ]
  },
  {
   "cell_type": "markdown",
   "metadata": {},
   "source": [
    "# Naive Bayes"
   ]
  },
  {
   "cell_type": "code",
   "execution_count": 22,
   "metadata": {},
   "outputs": [
    {
     "data": {
      "text/plain": [
       "137"
      ]
     },
     "execution_count": 22,
     "metadata": {},
     "output_type": "execute_result"
    }
   ],
   "source": [
    "from pyspark.ml.classification import NaiveBayes \n",
    "nb = NaiveBayes(smoothing=1.0, modelType=\"multinomial\") \n",
    "\n",
    "pip = Pipeline(stages=[assembler,nb]) \n",
    "result = pip.fit(train).transform(test).select(\"label\",\"prediction\")\n",
    "result.count()"
   ]
  },
  {
   "cell_type": "code",
   "execution_count": 23,
   "metadata": {
    "scrolled": true
   },
   "outputs": [
    {
     "name": "stdout",
     "output_type": "stream",
     "text": [
      "Test error = 0.605839\n",
      "+-----+----------+\n",
      "|label|prediction|\n",
      "+-----+----------+\n",
      "|  3.0|       4.0|\n",
      "|  3.0|       3.0|\n",
      "|  3.0|       3.0|\n",
      "|  3.0|       2.0|\n",
      "|  3.0|       4.0|\n",
      "|  3.0|       3.0|\n",
      "|  3.0|       2.0|\n",
      "|  3.0|       3.0|\n",
      "|  3.0|       4.0|\n",
      "|  3.0|       2.0|\n",
      "+-----+----------+\n",
      "only showing top 10 rows\n",
      "\n"
     ]
    }
   ],
   "source": [
    "evaluator = MulticlassClassificationEvaluator(metricName=\"accuracy\") \n",
    "print(\"Test error = %g\" % (1.0-evaluator.evaluate(result))) \n",
    "result.show(10)"
   ]
  },
  {
   "cell_type": "markdown",
   "metadata": {},
   "source": [
    "# Random Forest"
   ]
  },
  {
   "cell_type": "code",
   "execution_count": 24,
   "metadata": {
    "scrolled": true
   },
   "outputs": [
    {
     "name": "stdout",
     "output_type": "stream",
     "text": [
      "Test error = 0.423358\n",
      "+-----+----------+\n",
      "|label|prediction|\n",
      "+-----+----------+\n",
      "|  3.0|       4.0|\n",
      "|  3.0|       4.0|\n",
      "|  3.0|       4.0|\n",
      "|  3.0|       4.0|\n",
      "|  3.0|       4.0|\n",
      "|  3.0|       4.0|\n",
      "|  3.0|       4.0|\n",
      "|  3.0|       4.0|\n",
      "|  3.0|       4.0|\n",
      "|  3.0|       4.0|\n",
      "+-----+----------+\n",
      "only showing top 10 rows\n",
      "\n"
     ]
    }
   ],
   "source": [
    "rfc = RandomForestClassifier(numTrees=100, maxDepth=6, seed=0)\n",
    "pip = Pipeline(stages=[assembler,rfc])\n",
    "result = pip.fit(train).transform(test).select(\"label\",\"prediction\")\n",
    "evaluator = MulticlassClassificationEvaluator(metricName=\"accuracy\")\n",
    "print(\"Test error = %g\" % (1.0-evaluator.evaluate(result)))\n",
    "result.show(10)"
   ]
  },
  {
   "cell_type": "code",
   "execution_count": 25,
   "metadata": {},
   "outputs": [
    {
     "name": "stdout",
     "output_type": "stream",
     "text": [
      "+------------------+-----+--------------------+\n",
      "|        prediction|label|            features|\n",
      "+------------------+-----+--------------------+\n",
      "|2.9423458329524177|  3.0|(1681,[125,241,24...|\n",
      "| 3.110427107705303|  3.0|(1681,[54,58,62,6...|\n",
      "| 2.755373134267455|  3.0|(1681,[21,22,62,6...|\n",
      "|2.6166793007751235|  3.0|(1681,[12,14,24,9...|\n",
      "| 3.478180422253028|  3.0|(1681,[7,21,22,27...|\n",
      "+------------------+-----+--------------------+\n",
      "only showing top 5 rows\n",
      "\n",
      "Root Mean Squared Error (RMSE) on test data = 0.736736\n"
     ]
    }
   ],
   "source": [
    "from pyspark.ml.regression import RandomForestRegressor\n",
    "from pyspark.ml.evaluation import RegressionEvaluator\n",
    "# Train a RandomForest model\n",
    "rf = RandomForestRegressor()\n",
    "pip = Pipeline(stages=[assembler,rf])\n",
    "result = pip.fit(train).transform(test)\n",
    "\n",
    "# Select example rows to display.\n",
    "result.select(\"prediction\", \"label\", \"features\").show(5)\n",
    "\n",
    "# Select (prediction, true label) and compute test error\n",
    "evaluator = RegressionEvaluator(labelCol=\"label\", predictionCol=\"prediction\", metricName=\"rmse\")\n",
    "rmse = evaluator.evaluate(result)\n",
    "print(\"Root Mean Squared Error (RMSE) on test data = %g\" % rmse)"
   ]
  },
  {
   "cell_type": "code",
   "execution_count": null,
   "metadata": {},
   "outputs": [],
   "source": [
    "spark.stop()"
   ]
  }
 ],
 "metadata": {
  "kernelspec": {
   "display_name": "Python 3",
   "language": "python",
   "name": "python3"
  },
  "language_info": {
   "codemirror_mode": {
    "name": "ipython",
    "version": 3
   },
   "file_extension": ".py",
   "mimetype": "text/x-python",
   "name": "python",
   "nbconvert_exporter": "python",
   "pygments_lexer": "ipython3",
   "version": "3.7.2"
  }
 },
 "nbformat": 4,
 "nbformat_minor": 2
}
